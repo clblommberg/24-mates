{
 "cells": [
  {
   "cell_type": "code",
   "execution_count": 11,
   "metadata": {},
   "outputs": [
    {
     "name": "stdout",
     "output_type": "stream",
     "text": [
      "False\n",
      "Poly(x**2, x, domain='ZZ')\n",
      "Poly(x**3 + x + 1, x, domain='ZZ')\n"
     ]
    },
    {
     "data": {
      "text/latex": [
       "$\\displaystyle \\operatorname{Poly}{\\left( x^{5} + x^{3} + x^{2}, x, domain=\\mathbb{Z} \\right)}$"
      ],
      "text/plain": [
       "Poly(x**5 + x**3 + x**2, x, domain='ZZ')"
      ]
     },
     "execution_count": 11,
     "metadata": {},
     "output_type": "execute_result"
    }
   ],
   "source": [
    "# Polinomios con `Python`\n",
    "import sympy \n",
    "x = sympy.symbols('x') \n",
    "p = sympy.Poly(x**2) \n",
    "p\n",
    "q = sympy.Poly(1+x+x**3) \n",
    "q\n",
    "#Comprobar si dos polinomios son iguales\n",
    "print(p==q)\n",
    "print(p)\n",
    "print(q)\n",
    "#Calcular cualquier grado de polinomio\n",
    "p.degree()\n",
    "q.degree()\n",
    "#Operaciones suma y producto de polinomios\n",
    "p+q\n",
    "p*q\n",
    "#Dividir polinomios\n",
    "\n",
    "\n",
    "\n"
   ]
  },
  {
   "cell_type": "code",
   "execution_count": 15,
   "metadata": {},
   "outputs": [
    {
     "name": "stdout",
     "output_type": "stream",
     "text": [
      "   2\n",
      "1 x + 2 x + 1\n",
      "   4     3     2\n",
      "1 x + 2 x + 3 x + 4 x + 5\n",
      "False\n"
     ]
    },
    {
     "data": {
      "text/plain": [
       "57"
      ]
     },
     "execution_count": 15,
     "metadata": {},
     "output_type": "execute_result"
    }
   ],
   "source": [
    "import numpy\n",
    "r = numpy.poly1d([1,2,1]) \n",
    "print(r)\n",
    "s = numpy.poly1d([1,2,3,4,5])\n",
    "print(s)\n",
    "#Comprobar si dos polinomios son iguales\n",
    "print(r==s)\n",
    "\n",
    "#Calcular cualquier grado de polinomio\n",
    "r.order\n",
    "s.order\n",
    "#Operaciones suma y producto de polinomios\n",
    "r+s\n",
    "r*s\n",
    "#Dividir polinomios\n",
    "s/r # pero no aplica a r/s porque s es mayor\n",
    "# entonces la r multiplicada por el primer polinimio\n",
    "\n",
    "r*numpy.poly1d([1,0,2])+3 == s\n",
    "\n",
    "# Para evaluar polinomios se usa\n",
    "r(0)\n",
    "s(2)\n",
    "\n"
   ]
  },
  {
   "cell_type": "code",
   "execution_count": 17,
   "metadata": {},
   "outputs": [
    {
     "data": {
      "text/plain": [
       "array([-1.28781548+0.85789676j, -1.28781548-0.85789676j,\n",
       "        0.28781548+1.41609308j,  0.28781548-1.41609308j])"
      ]
     },
     "execution_count": 17,
     "metadata": {},
     "output_type": "execute_result"
    }
   ],
   "source": [
    "import numpy\n",
    "r = numpy.poly1d([1,2,1]) \n",
    "s = numpy.poly1d([1,2,3,4,5])\n",
    "\n",
    "r.r\n",
    "s.r"
   ]
  }
 ],
 "metadata": {
  "interpreter": {
   "hash": "34bcf7d10ffd02db0a91b216e907fa43004d129f75e4382ed4e0d9a9d313084c"
  },
  "kernelspec": {
   "display_name": "Python 3.8.10 64-bit ('analytics': conda)",
   "language": "python",
   "name": "python3"
  },
  "language_info": {
   "codemirror_mode": {
    "name": "ipython",
    "version": 3
   },
   "file_extension": ".py",
   "mimetype": "text/x-python",
   "name": "python",
   "nbconvert_exporter": "python",
   "pygments_lexer": "ipython3",
   "version": "3.8.10"
  },
  "orig_nbformat": 4
 },
 "nbformat": 4,
 "nbformat_minor": 2
}
